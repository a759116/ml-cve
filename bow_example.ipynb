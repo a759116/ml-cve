{
 "cells": [
  {
   "cell_type": "code",
   "execution_count": 1,
   "metadata": {},
   "outputs": [],
   "source": [
    "import numpy as np\n",
    "import pandas as pd\n",
    "import sklearn\n",
    "from sklearn.feature_extraction import text\n",
    "from sklearn.feature_extraction.text import CountVectorizer\n",
    "from sklearn.metrics import confusion_matrix\n",
    "from sklearn.model_selection import train_test_split"
   ]
  },
  {
   "cell_type": "code",
   "execution_count": 2,
   "metadata": {},
   "outputs": [],
   "source": [
    "phrases = [\"A cross-site request forgery vulnerability in Jenkins Google Compute Engine Plugin 4.1.1 and earlier in ComputeEngineCloud#doProvision could be used to provision new agents.\", \"A potential vulnerability in the discontinued LenovoPaper software version 1.0.0.22 may allow local privilege escalation.\"]"
   ]
  },
  {
   "cell_type": "code",
   "execution_count": 3,
   "metadata": {},
   "outputs": [
    {
     "data": {
      "text/plain": [
       "CountVectorizer()"
      ]
     },
     "execution_count": 3,
     "metadata": {},
     "output_type": "execute_result"
    }
   ],
   "source": [
    "vect = CountVectorizer()\n",
    "vect.fit(phrases)"
   ]
  },
  {
   "cell_type": "code",
   "execution_count": 4,
   "metadata": {},
   "outputs": [
    {
     "name": "stdout",
     "output_type": "stream",
     "text": [
      "Vocabulary Size: 34\n",
      "Vocabulary Content:\n",
      " {'cross': 8, 'site': 27, 'request': 26, 'forgery': 14, 'vulnerability': 33, 'in': 16, 'jenkins': 17, 'google': 15, 'compute': 5, 'engine': 12, 'plugin': 22, 'and': 3, 'earlier': 11, 'computeenginecloud': 6, 'doprovision': 10, 'could': 7, 'be': 4, 'used': 31, 'to': 30, 'provision': 25, 'new': 21, 'agents': 1, 'potential': 23, 'the': 29, 'discontinued': 9, 'lenovopaper': 18, 'software': 28, 'version': 32, '22': 0, 'may': 20, 'allow': 2, 'local': 19, 'privilege': 24, 'escalation': 13}\n"
     ]
    }
   ],
   "source": [
    "print(\"Vocabulary Size: {}\".format(len(vect.vocabulary_)))\n",
    "print(\"Vocabulary Content:\\n {}\".format(vect.vocabulary_))"
   ]
  },
  {
   "cell_type": "code",
   "execution_count": 5,
   "metadata": {},
   "outputs": [],
   "source": [
    "bow = vect.transform(phrases)"
   ]
  },
  {
   "cell_type": "code",
   "execution_count": 6,
   "metadata": {},
   "outputs": [
    {
     "name": "stdout",
     "output_type": "stream",
     "text": [
      "  (0, 1)\t1\n",
      "  (0, 3)\t1\n",
      "  (0, 4)\t1\n",
      "  (0, 5)\t1\n",
      "  (0, 6)\t1\n",
      "  (0, 7)\t1\n",
      "  (0, 8)\t1\n",
      "  (0, 10)\t1\n",
      "  (0, 11)\t1\n",
      "  (0, 12)\t1\n",
      "  (0, 14)\t1\n",
      "  (0, 15)\t1\n",
      "  (0, 16)\t2\n",
      "  (0, 17)\t1\n",
      "  (0, 21)\t1\n",
      "  (0, 22)\t1\n",
      "  (0, 25)\t1\n",
      "  (0, 26)\t1\n",
      "  (0, 27)\t1\n",
      "  (0, 30)\t1\n",
      "  (0, 31)\t1\n",
      "  (0, 33)\t1\n",
      "  (1, 0)\t1\n",
      "  (1, 2)\t1\n",
      "  (1, 9)\t1\n",
      "  (1, 13)\t1\n",
      "  (1, 16)\t1\n",
      "  (1, 18)\t1\n",
      "  (1, 19)\t1\n",
      "  (1, 20)\t1\n",
      "  (1, 23)\t1\n",
      "  (1, 24)\t1\n",
      "  (1, 28)\t1\n",
      "  (1, 29)\t1\n",
      "  (1, 32)\t1\n",
      "  (1, 33)\t1\n"
     ]
    }
   ],
   "source": [
    "print(bow)"
   ]
  },
  {
   "cell_type": "code",
   "execution_count": 7,
   "metadata": {},
   "outputs": [
    {
     "data": {
      "text/plain": [
       "['22',\n",
       " 'agents',\n",
       " 'allow',\n",
       " 'and',\n",
       " 'be',\n",
       " 'compute',\n",
       " 'computeenginecloud',\n",
       " 'could',\n",
       " 'cross',\n",
       " 'discontinued',\n",
       " 'doprovision',\n",
       " 'earlier',\n",
       " 'engine',\n",
       " 'escalation',\n",
       " 'forgery',\n",
       " 'google',\n",
       " 'in',\n",
       " 'jenkins',\n",
       " 'lenovopaper',\n",
       " 'local',\n",
       " 'may',\n",
       " 'new',\n",
       " 'plugin',\n",
       " 'potential',\n",
       " 'privilege',\n",
       " 'provision',\n",
       " 'request',\n",
       " 'site',\n",
       " 'software',\n",
       " 'the',\n",
       " 'to',\n",
       " 'used',\n",
       " 'version',\n",
       " 'vulnerability']"
      ]
     },
     "execution_count": 7,
     "metadata": {},
     "output_type": "execute_result"
    }
   ],
   "source": [
    "vect.get_feature_names()"
   ]
  },
  {
   "cell_type": "code",
   "execution_count": 8,
   "metadata": {},
   "outputs": [],
   "source": [
    "vect.get_stop_words()"
   ]
  }
 ],
 "metadata": {
  "kernelspec": {
   "display_name": "Python 3",
   "language": "python",
   "name": "python3"
  },
  "language_info": {
   "codemirror_mode": {
    "name": "ipython",
    "version": 3
   },
   "file_extension": ".py",
   "mimetype": "text/x-python",
   "name": "python",
   "nbconvert_exporter": "python",
   "pygments_lexer": "ipython3",
   "version": "3.7.9"
  }
 },
 "nbformat": 4,
 "nbformat_minor": 4
}
